{
 "cells": [
  {
   "cell_type": "code",
   "execution_count": 17,
   "metadata": {},
   "outputs": [],
   "source": [
    "import numpy as np\n",
    "import pandas as pd\n",
    "import matplotlib.pyplot as plt\n",
    "import cv2\n",
    "from keras.models import load_model\n",
    "import os\n",
    "from tqdm import tqdm\n",
    "import pickle"
   ]
  },
  {
   "cell_type": "markdown",
   "metadata": {},
   "source": [
    "## Loading binary models"
   ]
  },
  {
   "cell_type": "code",
   "execution_count": 6,
   "metadata": {},
   "outputs": [],
   "source": [
    "model_1_2 = load_model(\"model_1_and_2.h5\")\n",
    "model_1_3 = load_model(\"model_1_and_3.h5\")\n",
    "model_1_4 = load_model(\"model_1_and_4.h5\")\n",
    "model_1_5 = load_model(\"model_1_and_5.h5\")\n",
    "model_2_3 = load_model(\"model_2_and_3.h5\")\n",
    "model_2_4 = load_model(\"model_2_and_4.h5\")\n",
    "model_2_5 = load_model(\"model_2_and_5.h5\")\n",
    "model_3_4 = load_model(\"model_3_and_4.h5\")\n",
    "model_3_5 = load_model(\"model_3_and_4.h5\")\n",
    "model_4_5 = load_model(\"model_4_and_5.h5\")"
   ]
  },
  {
   "cell_type": "code",
   "execution_count": 90,
   "metadata": {},
   "outputs": [],
   "source": [
    "def predictall(image):\n",
    "    \n",
    "    a = 0\n",
    "    b = 0\n",
    "    c = 0\n",
    "    d = 0\n",
    "    e = 0\n",
    "    if(np.argmax(model_1_2.predict(image)) == 0):\n",
    "        a = a+1\n",
    "    else:\n",
    "        b = b+1\n",
    "        \n",
    "        \n",
    "    if(np.argmax(model_1_3.predict(image)) == 0):\n",
    "        a = a + 1    \n",
    "    else:\n",
    "        c = c + 1\n",
    "        \n",
    "        \n",
    "    if(np.argmax(model_1_4.predict(image)) == 0):\n",
    "        a = a +1    \n",
    "    else:\n",
    "        d = d +1 \n",
    "        \n",
    "        \n",
    "    if(np.argmax(model_1_5.predict(image)) == 0):\n",
    "        a = a + 1\n",
    "    else:\n",
    "        e = e + 1\n",
    "        \n",
    "        \n",
    "    if(np.argmax(model_2_3.predict(image)) == 0):\n",
    "        b = b + 1\n",
    "    else:\n",
    "        c+=1\n",
    "        \n",
    "        \n",
    "    if(np.argmax(model_2_4.predict(image)) == 0):\n",
    "        b+=1 \n",
    "    else:\n",
    "        d+=1\n",
    "        \n",
    "        \n",
    "    if(np.argmax(model_2_5.predict(image)) == 0):\n",
    "        b+=1\n",
    "    else:\n",
    "        e+=1\n",
    "        \n",
    "        \n",
    "    if(np.argmax(model_3_4.predict(image)) == 0):\n",
    "        c+=1\n",
    "    else:\n",
    "        d+=1\n",
    "        \n",
    "        \n",
    "    if(np.argmax(model_3_5.predict(image)) == 0):\n",
    "        c+=1\n",
    "    else:\n",
    "        e+=1\n",
    "        \n",
    "        \n",
    "    if(np.argmax(model_4_5.predict(image)) == 0):\n",
    "        d+=1\n",
    "    else:\n",
    "        e+=1\n",
    "        \n",
    "    Val = {'0':a,'1':b,'2':c,'3':d,'4':e}\n",
    "    return max(Val, key=Val.get)"
   ]
  },
  {
   "cell_type": "code",
   "execution_count": 33,
   "metadata": {},
   "outputs": [],
   "source": [
    "def predictall1(image):\n",
    "    \n",
    "    a = 0\n",
    "    b = 0\n",
    "    c = 0\n",
    "    d = 0\n",
    "    e = 0\n",
    "    temp = model_1_2.predict(image)\n",
    "    a += temp[0][0]\n",
    "    b += temp[0][1]\n",
    "    \n",
    "    temp = model_1_3.predict(image)\n",
    "    a += temp[0][0]\n",
    "    c += temp[0][1]\n",
    "    \n",
    "    temp = model_1_4.predict(image)\n",
    "    a += temp[0][0]\n",
    "    d += temp[0][1]\n",
    "    \n",
    "    temp = model_1_4.predict(image)\n",
    "    a += temp[0][0]\n",
    "    e += temp[0][1]\n",
    "    \n",
    "    temp = model_2_3.predict(image)\n",
    "    b += temp[0][0]\n",
    "    c += temp[0][1]\n",
    "    \n",
    "    temp = model_2_4.predict(image)\n",
    "    b += temp[0][0]\n",
    "    d += temp[0][1]\n",
    "    \n",
    "    temp = model_2_5.predict(image)\n",
    "    b += temp[0][0]\n",
    "    e += temp[0][1]\n",
    "    \n",
    "    temp = model_3_4.predict(image)\n",
    "    c += temp[0][0]\n",
    "    d += temp[0][1]\n",
    "    \n",
    "    temp = model_3_5.predict(image)\n",
    "    c += temp[0][0]\n",
    "    e += temp[0][1]\n",
    "    \n",
    "    temp = model_4_5.predict(image)\n",
    "    d += temp[0][0]\n",
    "    e += temp[0][1]\n",
    "    \n",
    "        \n",
    "    Val = {'0':a,'1':b,'2':c,'3':d,'4':e}\n",
    "    return max(Val, key=Val.get)"
   ]
  },
  {
   "cell_type": "code",
   "execution_count": 28,
   "metadata": {},
   "outputs": [],
   "source": [
    "a =0"
   ]
  },
  {
   "cell_type": "code",
   "execution_count": null,
   "metadata": {},
   "outputs": [],
   "source": []
  },
  {
   "cell_type": "code",
   "execution_count": null,
   "metadata": {},
   "outputs": [],
   "source": []
  },
  {
   "cell_type": "code",
   "execution_count": 194,
   "metadata": {},
   "outputs": [],
   "source": [
    "pickle_in = open(\"X_4_5.pickle\",\"rb\")\n",
    "X = pickle.load(pickle_in)\n",
    "\n",
    "pickle_in = open(\"y_4_5.pickle\",\"rb\")\n",
    "y = pickle.load(pickle_in)"
   ]
  },
  {
   "cell_type": "code",
   "execution_count": 179,
   "metadata": {},
   "outputs": [
    {
     "data": {
      "text/plain": [
       "'4'"
      ]
     },
     "execution_count": 179,
     "metadata": {},
     "output_type": "execute_result"
    }
   ],
   "source": [
    "predictall1(np.reshape(X[0],(-1,256,256,3)))"
   ]
  },
  {
   "cell_type": "code",
   "execution_count": 180,
   "metadata": {},
   "outputs": [
    {
     "data": {
      "text/plain": [
       "<matplotlib.image.AxesImage at 0xb35475fd0>"
      ]
     },
     "execution_count": 180,
     "metadata": {},
     "output_type": "execute_result"
    },
    {
     "data": {
      "image/png": "[encoded data removed]",
      "text/plain": [
       "<Figure size 432x288 with 1 Axes>"
      ]
     },
     "metadata": {
      "needs_background": "light"
     },
     "output_type": "display_data"
    }
   ],
   "source": [
    "plt.imshow(X[0])"
   ]
  },
  {
   "cell_type": "code",
   "execution_count": 148,
   "metadata": {},
   "outputs": [],
   "source": [
    "def predfunc(X):\n",
    "    pred = []\n",
    "    \n",
    "    for x in X:\n",
    "        pred.append(predictall1(np.reshape(x,(-1,256,256,3))))\n",
    "        \n",
    "    return pred\n",
    "    "
   ]
  },
  {
   "cell_type": "code",
   "execution_count": 196,
   "metadata": {},
   "outputs": [],
   "source": [
    "pred = predfunc(X[:25])"
   ]
  },
  {
   "cell_type": "code",
   "execution_count": 80,
   "metadata": {},
   "outputs": [
    {
     "data": {
      "text/plain": [
       "str"
      ]
     },
     "execution_count": 80,
     "metadata": {},
     "output_type": "execute_result"
    }
   ],
   "source": [
    "type(pred[1])"
   ]
  },
  {
   "cell_type": "code",
   "execution_count": 170,
   "metadata": {},
   "outputs": [
    {
     "data": {
      "text/plain": [
       "[4, 2, 4, 4, 2, 2, 4, 2, 2, 2]"
      ]
     },
     "execution_count": 170,
     "metadata": {},
     "output_type": "execute_result"
    }
   ],
   "source": [
    "y[:10]"
   ]
  },
  {
   "cell_type": "code",
   "execution_count": 195,
   "metadata": {},
   "outputs": [],
   "source": [
    "for i in range(0,len(y)):\n",
    "    if y[i]==1:\n",
    "        y[i] = 4\n",
    "    if y[i] == 0:\n",
    "        y[i] = 3"
   ]
  },
  {
   "cell_type": "code",
   "execution_count": 197,
   "metadata": {},
   "outputs": [],
   "source": [
    "results = list(map(int, pred))"
   ]
  },
  {
   "cell_type": "code",
   "execution_count": 186,
   "metadata": {},
   "outputs": [
    {
     "data": {
      "text/plain": [
       "[4, 2, 4, 4, 2, 2, 4, 2, 2, 2]"
      ]
     },
     "execution_count": 186,
     "metadata": {},
     "output_type": "execute_result"
    }
   ],
   "source": [
    "results"
   ]
  },
  {
   "cell_type": "code",
   "execution_count": 183,
   "metadata": {},
   "outputs": [
    {
     "data": {
      "text/plain": [
       "[4, 2, 4, 4, 2, 2, 4, 2, 2, 2]"
      ]
     },
     "execution_count": 183,
     "metadata": {},
     "output_type": "execute_result"
    }
   ],
   "source": [
    "y[:10]"
   ]
  },
  {
   "cell_type": "code",
   "execution_count": 198,
   "metadata": {},
   "outputs": [],
   "source": [
    "a = np.array(results)   # actual labels\n",
    "b = np.array(y[:25])\n",
    "\n",
    "correct = (a == b)\n",
    "accuracy = correct.sum() / correct.size\n"
   ]
  },
  {
   "cell_type": "code",
   "execution_count": 199,
   "metadata": {},
   "outputs": [
    {
     "data": {
      "text/plain": [
       "0.72"
      ]
     },
     "execution_count": 199,
     "metadata": {},
     "output_type": "execute_result"
    }
   ],
   "source": [
    "accuracy"
   ]
  },
  {
   "cell_type": "code",
   "execution_count": 77,
   "metadata": {},
   "outputs": [
    {
     "data": {
      "text/plain": [
       "array([[[[128, 128,  61],\n",
       "         [140, 135,  68],\n",
       "         [113, 102,  34],\n",
       "         ...,\n",
       "         [ 81,  88,  41],\n",
       "         [194, 203, 145],\n",
       "         [187, 196, 136]],\n",
       "\n",
       "        [[ 96, 101,  39],\n",
       "         [126, 123,  56],\n",
       "         [112, 100,  33],\n",
       "         ...,\n",
       "         [176, 182, 127],\n",
       "         [189, 198, 138],\n",
       "         [188, 197, 138]],\n",
       "\n",
       "        [[ 90, 100,  38],\n",
       "         [117, 115,  50],\n",
       "         [158, 145,  71],\n",
       "         ...,\n",
       "         [196, 202, 141],\n",
       "         [188, 195, 135],\n",
       "         [143, 151,  94]],\n",
       "\n",
       "        ...,\n",
       "\n",
       "        [[104, 120,  57],\n",
       "         [112, 138,  62],\n",
       "         [113, 139,  62],\n",
       "         ...,\n",
       "         [ 73,  91,  26],\n",
       "         [ 74,  92,  27],\n",
       "         [ 60,  76,  18]],\n",
       "\n",
       "        [[100, 117,  54],\n",
       "         [111, 136,  61],\n",
       "         [115, 140,  63],\n",
       "         ...,\n",
       "         [ 74,  91,  27],\n",
       "         [ 64,  81,  21],\n",
       "         [ 68,  83,  23]],\n",
       "\n",
       "        [[ 99, 116,  53],\n",
       "         [110, 134,  59],\n",
       "         [112, 138,  60],\n",
       "         ...,\n",
       "         [ 74,  88,  27],\n",
       "         [ 77,  88,  28],\n",
       "         [ 91,  99,  37]]],\n",
       "\n",
       "\n",
       "       [[[153, 106,  30],\n",
       "         [192, 147,  68],\n",
       "         [242, 210, 122],\n",
       "         ...,\n",
       "         [159, 131,  39],\n",
       "         [178, 149,  64],\n",
       "         [192, 154,  82]],\n",
       "\n",
       "        [[159, 109,  41],\n",
       "         [225, 184, 111],\n",
       "         [172, 159,  48],\n",
       "         ...,\n",
       "         [164, 138,  57],\n",
       "         [187, 154,  79],\n",
       "         [200, 156,  77]],\n",
       "\n",
       "        [[144,  97,  19],\n",
       "         [208, 189,  96],\n",
       "         [195, 159,  74],\n",
       "         ...,\n",
       "         [179, 147,  98],\n",
       "         [180, 153, 104],\n",
       "         [190, 163,  87]],\n",
       "\n",
       "        ...,\n",
       "\n",
       "        [[125, 115,   2],\n",
       "         [147, 123,   7],\n",
       "         [153, 129,  17],\n",
       "         ...,\n",
       "         [ 98,  60,  31],\n",
       "         [ 89,  62,  39],\n",
       "         [140, 107,  57]],\n",
       "\n",
       "        [[134, 127,  15],\n",
       "         [139, 115,   3],\n",
       "         [153, 130,  15],\n",
       "         ...,\n",
       "         [ 79,  43,   9],\n",
       "         [ 81,  55,  36],\n",
       "         [108,  73,  30]],\n",
       "\n",
       "        [[143, 136,  20],\n",
       "         [131, 115,   0],\n",
       "         [150, 127,  12],\n",
       "         ...,\n",
       "         [ 99,  62,  31],\n",
       "         [ 85,  53,  25],\n",
       "         [103,  69,  30]]],\n",
       "\n",
       "\n",
       "       [[[ 99, 182,  30],\n",
       "         [ 95, 178,  26],\n",
       "         [ 95, 178,  24],\n",
       "         ...,\n",
       "         [ 12,  32,   5],\n",
       "         [ 16,  37,   4],\n",
       "         [  3,  22,   0]],\n",
       "\n",
       "        [[ 93, 175,  32],\n",
       "         [ 95, 176,  33],\n",
       "         [ 94, 176,  31],\n",
       "         ...,\n",
       "         [ 28,  51,  22],\n",
       "         [ 54,  77,  43],\n",
       "         [ 15,  36,   6]],\n",
       "\n",
       "        [[ 80, 160,  34],\n",
       "         [ 82, 162,  34],\n",
       "         [ 73, 154,  26],\n",
       "         ...,\n",
       "         [ 46,  72,  40],\n",
       "         [ 36,  63,  26],\n",
       "         [ 10,  34,   2]],\n",
       "\n",
       "        ...,\n",
       "\n",
       "        [[ 38,  97,  11],\n",
       "         [ 32,  89,   4],\n",
       "         [ 49, 109,   3],\n",
       "         ...,\n",
       "         [ 64, 123,  14],\n",
       "         [ 99, 156,  46],\n",
       "         [ 61, 118,  18]],\n",
       "\n",
       "        [[ 38,  98,  11],\n",
       "         [ 37,  95,  12],\n",
       "         [ 50, 109,   4],\n",
       "         ...,\n",
       "         [ 69, 128,  17],\n",
       "         [ 79, 137,  29],\n",
       "         [ 32,  87,   0]],\n",
       "\n",
       "        [[ 31,  91,   6],\n",
       "         [ 52, 110,  28],\n",
       "         [ 62, 121,  10],\n",
       "         ...,\n",
       "         [ 69, 128,  18],\n",
       "         [ 55, 110,   7],\n",
       "         [ 25,  79,   0]]],\n",
       "\n",
       "\n",
       "       ...,\n",
       "\n",
       "\n",
       "       [[[188, 174,  86],\n",
       "         [125, 107,  14],\n",
       "         [109,  86,   0],\n",
       "         ...,\n",
       "         [165, 143,   8],\n",
       "         [190, 162,  43],\n",
       "         [195, 166,  66]],\n",
       "\n",
       "        [[132, 118,  29],\n",
       "         [135, 117,  24],\n",
       "         [ 89,  66,   0],\n",
       "         ...,\n",
       "         [163, 141,   6],\n",
       "         [186, 160,  38],\n",
       "         [190, 163,  56]],\n",
       "\n",
       "        [[143, 131,  41],\n",
       "         [111,  94,   9],\n",
       "         [116,  94,   0],\n",
       "         ...,\n",
       "         [169, 148,  14],\n",
       "         [183, 159,  32],\n",
       "         [181, 157,  41]],\n",
       "\n",
       "        ...,\n",
       "\n",
       "        [[ 31,  22,   5],\n",
       "         [ 22,  18,   2],\n",
       "         [ 12,  13,   0],\n",
       "         ...,\n",
       "         [ 56,  41,   8],\n",
       "         [ 66,  53,  19],\n",
       "         [ 62,  49,  15]],\n",
       "\n",
       "        [[ 29,  21,   4],\n",
       "         [ 26,  21,   4],\n",
       "         [ 22,  23,   4],\n",
       "         ...,\n",
       "         [ 71,  56,  23],\n",
       "         [ 72,  59,  25],\n",
       "         [ 67,  56,  22]],\n",
       "\n",
       "        [[ 29,  21,   3],\n",
       "         [ 31,  27,   8],\n",
       "         [ 33,  34,  14],\n",
       "         ...,\n",
       "         [ 66,  52,  19],\n",
       "         [ 58,  47,  12],\n",
       "         [ 61,  53,  17]]],\n",
       "\n",
       "\n",
       "       [[[104, 148,  25],\n",
       "         [148, 192,  68],\n",
       "         [121, 166,  39],\n",
       "         ...,\n",
       "         [132, 167,  51],\n",
       "         [114, 148,  31],\n",
       "         [158, 196,  75]],\n",
       "\n",
       "        [[137, 179,  55],\n",
       "         [135, 176,  52],\n",
       "         [129, 171,  44],\n",
       "         ...,\n",
       "         [114, 147,  30],\n",
       "         [121, 156,  37],\n",
       "         [111, 149,  27]],\n",
       "\n",
       "        [[130, 171,  47],\n",
       "         [155, 198,  72],\n",
       "         [124, 166,  39],\n",
       "         ...,\n",
       "         [ 97, 131,  12],\n",
       "         [106, 141,  21],\n",
       "         [114, 151,  29]],\n",
       "\n",
       "        ...,\n",
       "\n",
       "        [[212, 165, 117],\n",
       "         [209, 165, 116],\n",
       "         [206, 169, 115],\n",
       "         ...,\n",
       "         [155, 159,  72],\n",
       "         [179, 168,  89],\n",
       "         [214, 169, 100]],\n",
       "\n",
       "        [[216, 169, 122],\n",
       "         [213, 165, 119],\n",
       "         [210, 167, 119],\n",
       "         ...,\n",
       "         [143, 152,  63],\n",
       "         [157, 153,  70],\n",
       "         [204, 166,  95]],\n",
       "\n",
       "        [[218, 167, 124],\n",
       "         [214, 165, 122],\n",
       "         [212, 166, 121],\n",
       "         ...,\n",
       "         [150, 163,  73],\n",
       "         [148, 149,  65],\n",
       "         [209, 176, 104]]],\n",
       "\n",
       "\n",
       "       [[[ 72,  89,  71],\n",
       "         [ 78,  95,  77],\n",
       "         [ 80,  97,  79],\n",
       "         ...,\n",
       "         [111, 117,  99],\n",
       "         [106, 112,  97],\n",
       "         [104, 112,  99]],\n",
       "\n",
       "        [[ 64,  80,  70],\n",
       "         [ 65,  81,  71],\n",
       "         [ 74,  90,  79],\n",
       "         ...,\n",
       "         [155, 158, 156],\n",
       "         [152, 156, 155],\n",
       "         [150, 155, 155]],\n",
       "\n",
       "        [[ 58,  72,  71],\n",
       "         [ 53,  67,  66],\n",
       "         [ 66,  80,  77],\n",
       "         ...,\n",
       "         [200, 201, 208],\n",
       "         [200, 202, 207],\n",
       "         [199, 202, 206]],\n",
       "\n",
       "        ...,\n",
       "\n",
       "        [[ 40,  42,  28],\n",
       "         [ 35,  37,  23],\n",
       "         [ 40,  42,  28],\n",
       "         ...,\n",
       "         [ 48,  84,  12],\n",
       "         [ 42,  78,   6],\n",
       "         [ 40,  76,   3]],\n",
       "\n",
       "        [[ 39,  42,  28],\n",
       "         [ 42,  44,  30],\n",
       "         [ 61,  63,  49],\n",
       "         ...,\n",
       "         [ 44,  80,  10],\n",
       "         [ 43,  80,   8],\n",
       "         [ 42,  79,   4]],\n",
       "\n",
       "        [[ 37,  39,  25],\n",
       "         [ 47,  49,  35],\n",
       "         [ 79,  81,  67],\n",
       "         ...,\n",
       "         [ 37,  75,   5],\n",
       "         [ 43,  81,   8],\n",
       "         [ 43,  81,   4]]]], dtype=uint8)"
      ]
     },
     "execution_count": 77,
     "metadata": {},
     "output_type": "execute_result"
    }
   ],
   "source": [
    "X[:10]"
   ]
  },
  {
   "cell_type": "code",
   "execution_count": 105,
   "metadata": {},
   "outputs": [
    {
     "data": {
      "text/plain": [
       "[3,\n",
       " 4,\n",
       " 2,\n",
       " 4,\n",
       " 2,\n",
       " 2,\n",
       " 0,\n",
       " 4,\n",
       " 3,\n",
       " 2,\n",
       " 2,\n",
       " 0,\n",
       " 3,\n",
       " 4,\n",
       " 2,\n",
       " 0,\n",
       " 0,\n",
       " 2,\n",
       " 0,\n",
       " 2,\n",
       " 3,\n",
       " 2,\n",
       " 2,\n",
       " 2,\n",
       " 4,\n",
       " 2,\n",
       " 4,\n",
       " 2,\n",
       " 2,\n",
       " 1,\n",
       " 4,\n",
       " 2,\n",
       " 1,\n",
       " 2,\n",
       " 2,\n",
       " 2,\n",
       " 4,\n",
       " 0,\n",
       " 2,\n",
       " 2,\n",
       " 4,\n",
       " 2,\n",
       " 4,\n",
       " 2,\n",
       " 2,\n",
       " 3,\n",
       " 4,\n",
       " 0,\n",
       " 4,\n",
       " 2,\n",
       " 4,\n",
       " 4,\n",
       " 4,\n",
       " 2,\n",
       " 2,\n",
       " 2,\n",
       " 2,\n",
       " 2,\n",
       " 4,\n",
       " 3,\n",
       " 2,\n",
       " 2,\n",
       " 0,\n",
       " 4,\n",
       " 2,\n",
       " 0,\n",
       " 4,\n",
       " 3,\n",
       " 2,\n",
       " 3,\n",
       " 2,\n",
       " 2,\n",
       " 2,\n",
       " 3,\n",
       " 0,\n",
       " 4,\n",
       " 2,\n",
       " 2,\n",
       " 2,\n",
       " 3,\n",
       " 2,\n",
       " 4,\n",
       " 2,\n",
       " 0,\n",
       " 0,\n",
       " 3,\n",
       " 2,\n",
       " 2,\n",
       " 2,\n",
       " 2,\n",
       " 2,\n",
       " 2,\n",
       " 3,\n",
       " 2,\n",
       " 2,\n",
       " 2,\n",
       " 2,\n",
       " 0,\n",
       " 2,\n",
       " 4]"
      ]
     },
     "execution_count": 105,
     "metadata": {},
     "output_type": "execute_result"
    }
   ],
   "source": [
    "results"
   ]
  },
  {
   "cell_type": "code",
   "execution_count": 181,
   "metadata": {},
   "outputs": [
    {
     "data": {
      "text/plain": [
       "[4, 2, 4, 4, 2, 2, 4, 2, 2, 2]"
      ]
     },
     "execution_count": 181,
     "metadata": {},
     "output_type": "execute_result"
    }
   ],
   "source": [
    "y[:10]"
   ]
  },
  {
   "cell_type": "code",
   "execution_count": null,
   "metadata": {},
   "outputs": [],
   "source": []
  }
 ],
 "metadata": {
  "kernelspec": {
   "display_name": "Python 3",
   "language": "python",
   "name": "python3"
  },
  "language_info": {
   "codemirror_mode": {
    "name": "ipython",
    "version": 3
   },
   "file_extension": ".py",
   "mimetype": "text/x-python",
   "name": "python",
   "nbconvert_exporter": "python",
   "pygments_lexer": "ipython3",
   "version": "3.7.1"
  }
 },
 "nbformat": 4,
 "nbformat_minor": 2
}
