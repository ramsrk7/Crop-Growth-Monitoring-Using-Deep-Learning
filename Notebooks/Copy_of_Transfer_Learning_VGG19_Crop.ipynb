{
  "nbformat": 4,
  "nbformat_minor": 0,
  "metadata": {
    "colab": {
      "name": "Copy of Transfer_Learning_VGG19 Crop.ipynb",
      "provenance": [],
      "collapsed_sections": [],
      "toc_visible": true,
      "machine_shape": "hm"
    },
    "kernelspec": {
      "name": "python3",
      "display_name": "Python 3"
    },
    "accelerator": "GPU"
  },
  "cells": [
    {
      "cell_type": "code",
      "metadata": {
        "id": "fsQS35w1Te6c",
        "colab_type": "code",
        "outputId": "10ff7b28-bf2a-4b48-c8ed-8e1040c7342c",
        "colab": {
          "base_uri": "https://localhost:8080/",
          "height": 241
        }
      },
      "source": [
        "!pip install keras_metrics"
      ],
      "execution_count": 0,
      "outputs": [
        {
          "output_type": "stream",
          "text": [
            "Collecting keras_metrics\n",
            "  Downloading https://files.pythonhosted.org/packages/32/c9/a87420da8e73de944e63a8e9cdcfb1f03ca31a7c4cdcdbd45d2cdf13275a/keras_metrics-1.1.0-py2.py3-none-any.whl\n",
            "Requirement already satisfied: Keras>=2.1.5 in /usr/local/lib/python3.6/dist-packages (from keras_metrics) (2.2.5)\n",
            "Requirement already satisfied: keras-preprocessing>=1.1.0 in /usr/local/lib/python3.6/dist-packages (from Keras>=2.1.5->keras_metrics) (1.1.0)\n",
            "Requirement already satisfied: scipy>=0.14 in /usr/local/lib/python3.6/dist-packages (from Keras>=2.1.5->keras_metrics) (1.4.1)\n",
            "Requirement already satisfied: pyyaml in /usr/local/lib/python3.6/dist-packages (from Keras>=2.1.5->keras_metrics) (3.13)\n",
            "Requirement already satisfied: numpy>=1.9.1 in /usr/local/lib/python3.6/dist-packages (from Keras>=2.1.5->keras_metrics) (1.17.5)\n",
            "Requirement already satisfied: six>=1.9.0 in /usr/local/lib/python3.6/dist-packages (from Keras>=2.1.5->keras_metrics) (1.12.0)\n",
            "Requirement already satisfied: h5py in /usr/local/lib/python3.6/dist-packages (from Keras>=2.1.5->keras_metrics) (2.8.0)\n",
            "Requirement already satisfied: keras-applications>=1.0.8 in /usr/local/lib/python3.6/dist-packages (from Keras>=2.1.5->keras_metrics) (1.0.8)\n",
            "Installing collected packages: keras-metrics\n",
            "Successfully installed keras-metrics-1.1.0\n"
          ],
          "name": "stdout"
        }
      ]
    },
    {
      "cell_type": "code",
      "metadata": {
        "id": "SBRgn5hvTnC3",
        "colab_type": "code",
        "outputId": "af9fc9b3-70d8-4a9f-9709-18ee4e547d8e",
        "colab": {
          "base_uri": "https://localhost:8080/",
          "height": 80
        }
      },
      "source": [
        "import keras_metrics"
      ],
      "execution_count": 0,
      "outputs": [
        {
          "output_type": "stream",
          "text": [
            "Using TensorFlow backend.\n"
          ],
          "name": "stderr"
        },
        {
          "output_type": "display_data",
          "data": {
            "text/html": [
              "<p style=\"color: red;\">\n",
              "The default version of TensorFlow in Colab will soon switch to TensorFlow 2.x.<br>\n",
              "We recommend you <a href=\"https://www.tensorflow.org/guide/migrate\" target=\"_blank\">upgrade</a> now \n",
              "or ensure your notebook will continue to use TensorFlow 1.x via the <code>%tensorflow_version 1.x</code> magic:\n",
              "<a href=\"https://colab.research.google.com/notebooks/tensorflow_version.ipynb\" target=\"_blank\">more info</a>.</p>\n"
            ],
            "text/plain": [
              "<IPython.core.display.HTML object>"
            ]
          },
          "metadata": {
            "tags": []
          }
        }
      ]
    },
    {
      "cell_type": "code",
      "metadata": {
        "id": "yUKDDjVMfSKu",
        "colab_type": "code",
        "colab": {}
      },
      "source": [
        "from keras.callbacks import TensorBoard\n",
        "\n",
        "NAME = \"VGG19_Crop_200\"\n",
        "tensorboard = TensorBoard(log_dir=\"/content/drive/My Drive/Logs/{}\".format(NAME))"
      ],
      "execution_count": 0,
      "outputs": []
    },
    {
      "cell_type": "code",
      "metadata": {
        "id": "nUJTAMfJ1uAX",
        "colab_type": "code",
        "colab": {}
      },
      "source": [
        "from keras.callbacks import EarlyStopping, ModelCheckpoint\n",
        "\n",
        "checkpointer = ModelCheckpoint(filepath='/content/drive/My Drive/' + \"model_vgg19_crop_best_200\" + \".h5\", verbose=1, save_best_only=True, monitor = 'val_loss', mode='min')"
      ],
      "execution_count": 0,
      "outputs": []
    },
    {
      "cell_type": "code",
      "metadata": {
        "id": "6AdkHUDKFs-u",
        "colab_type": "code",
        "outputId": "aa14e4e6-a6f6-49a0-9ced-efe60b87aa60",
        "colab": {
          "base_uri": "https://localhost:8080/",
          "height": 122
        }
      },
      "source": [
        "from google.colab import drive\n",
        "drive.mount('/content/drive')"
      ],
      "execution_count": 0,
      "outputs": [
        {
          "output_type": "stream",
          "text": [
            "Go to this URL in a browser: https://accounts.google.com/o/oauth2/auth?client_id=947318989803-6bn6qk8qdgf4n4g3pfee6491hc0brc4i.apps.googleusercontent.com&redirect_uri=urn%3aietf%3awg%3aoauth%3a2.0%3aoob&response_type=code&scope=email%20https%3a%2f%2fwww.googleapis.com%2fauth%2fdocs.test%20https%3a%2f%2fwww.googleapis.com%2fauth%2fdrive%20https%3a%2f%2fwww.googleapis.com%2fauth%2fdrive.photos.readonly%20https%3a%2f%2fwww.googleapis.com%2fauth%2fpeopleapi.readonly\n",
            "\n",
            "Enter your authorization code:\n",
            "··········\n",
            "Mounted at /content/drive\n"
          ],
          "name": "stdout"
        }
      ]
    },
    {
      "cell_type": "code",
      "metadata": {
        "id": "urSSnRqSF9YQ",
        "colab_type": "code",
        "colab": {}
      },
      "source": [
        "import pickle\n",
        "\n",
        "pickle_in = open(\"/content/drive/My Drive/Datasets/X_Crop.pickle\",\"rb\")\n",
        "X = pickle.load(pickle_in)\n",
        "\n",
        "pickle_in = open(\"/content/drive/My Drive/Datasets/y_Crop.pickle\",\"rb\")\n",
        "y = pickle.load(pickle_in)\n",
        "\n"
      ],
      "execution_count": 0,
      "outputs": []
    },
    {
      "cell_type": "code",
      "metadata": {
        "id": "KQIgtqZa-rI8",
        "colab_type": "code",
        "colab": {}
      },
      "source": [
        "X = X/ 255"
      ],
      "execution_count": 0,
      "outputs": []
    },
    {
      "cell_type": "code",
      "metadata": {
        "id": "S2m3LGgWHIWd",
        "colab_type": "code",
        "colab": {}
      },
      "source": [
        "from sklearn.model_selection import train_test_split\n",
        "X_train,X_test, y_train, y_test = train_test_split(X,y, test_size=0.20)"
      ],
      "execution_count": 0,
      "outputs": []
    },
    {
      "cell_type": "code",
      "metadata": {
        "id": "D5LBxKbsZhY8",
        "colab_type": "code",
        "outputId": "5700613d-1cbe-45ca-ac2b-ddd9dd1aff11",
        "colab": {
          "base_uri": "https://localhost:8080/",
          "height": 34
        }
      },
      "source": [
        "X_train.shape"
      ],
      "execution_count": 0,
      "outputs": [
        {
          "output_type": "execute_result",
          "data": {
            "text/plain": [
              "(2048, 200, 200, 3)"
            ]
          },
          "metadata": {
            "tags": []
          },
          "execution_count": 16
        }
      ]
    },
    {
      "cell_type": "code",
      "metadata": {
        "id": "gZ_X-ZtJp20q",
        "colab_type": "code",
        "outputId": "464c51af-a879-4b52-c03d-b70242ad972a",
        "colab": {
          "base_uri": "https://localhost:8080/",
          "height": 34
        }
      },
      "source": [
        "X_test.shape"
      ],
      "execution_count": 0,
      "outputs": [
        {
          "output_type": "execute_result",
          "data": {
            "text/plain": [
              "(513, 200, 200, 3)"
            ]
          },
          "metadata": {
            "tags": []
          },
          "execution_count": 17
        }
      ]
    },
    {
      "cell_type": "code",
      "metadata": {
        "id": "nIku0CH0asyY",
        "colab_type": "code",
        "colab": {}
      },
      "source": [
        ""
      ],
      "execution_count": 0,
      "outputs": []
    },
    {
      "cell_type": "code",
      "metadata": {
        "id": "bbce979VVpx7",
        "colab_type": "code",
        "outputId": "7924afed-f7fe-487a-e984-d4ba7fcf4869",
        "colab": {
          "base_uri": "https://localhost:8080/",
          "height": 51
        }
      },
      "source": [
        "import numpy as np\n",
        "X_train = X_train.reshape(-1,200,200)\n",
        "print(X_train.shape)  # (64, 224, 224)\n",
        "X_train = np.repeat(X_train[..., np.newaxis], 3, -1)\n",
        "print(X_train.shape)  # (64, 224, 224, 3)"
      ],
      "execution_count": 0,
      "outputs": [
        {
          "output_type": "stream",
          "text": [
            "(5596, 200, 200)\n",
            "(5596, 200, 200, 3)\n"
          ],
          "name": "stdout"
        }
      ]
    },
    {
      "cell_type": "code",
      "metadata": {
        "id": "EQcqcyXnWOPB",
        "colab_type": "code",
        "outputId": "aad5904f-938a-4fbe-f383-200058965be8",
        "colab": {
          "base_uri": "https://localhost:8080/",
          "height": 51
        }
      },
      "source": [
        "X_test = X_test.reshape(-1,200,200)\n",
        "print(X_test.shape)  # (64, 224, 224)\n",
        "X_test = np.repeat(X_test[..., np.newaxis], 3, -1)\n",
        "print(X_test.shape)"
      ],
      "execution_count": 0,
      "outputs": [
        {
          "output_type": "stream",
          "text": [
            "(1642, 200, 200)\n",
            "(1642, 200, 200, 3)\n"
          ],
          "name": "stdout"
        }
      ]
    },
    {
      "cell_type": "code",
      "metadata": {
        "id": "doJ9hRh9o2tJ",
        "colab_type": "code",
        "colab": {}
      },
      "source": [
        "\n"
      ],
      "execution_count": 0,
      "outputs": []
    },
    {
      "cell_type": "code",
      "metadata": {
        "id": "AxnFvI2Ppddt",
        "colab_type": "code",
        "colab": {}
      },
      "source": [
        ""
      ],
      "execution_count": 0,
      "outputs": []
    },
    {
      "cell_type": "code",
      "metadata": {
        "id": "fUsIAttZMBNr",
        "colab_type": "code",
        "colab": {}
      },
      "source": [
        "from keras.utils import to_categorical    #One hot encoding\n",
        "\n",
        "y_test = to_categorical(y_test,num_classes = 4) \n",
        "y_train = to_categorical(y_train,num_classes = 4)\n",
        "\n"
      ],
      "execution_count": 0,
      "outputs": []
    },
    {
      "cell_type": "code",
      "metadata": {
        "id": "y4F2m4ka6rs4",
        "colab_type": "code",
        "outputId": "fe5aac99-37b0-4eb7-dd2f-f9088f73e0a7",
        "colab": {
          "base_uri": "https://localhost:8080/",
          "height": 459
        }
      },
      "source": [
        "\n",
        "from keras.preprocessing import image\n",
        "from keras.models import Model\n",
        "from keras.layers import Dense, Dropout, Flatten\n",
        "from keras import backend as K\n",
        "from keras import applications\n",
        "from keras.optimizers import SGD\n",
        "\n",
        "# build the VGG19 network#layers + optimizer\n",
        "batch_size = 32\n",
        "import keras_metrics\n",
        "metrics= ['categorical_accuracy', keras_metrics.precision(), keras_metrics.recall()]\n",
        "\n",
        "base_model = applications.VGG19(weights='imagenet', include_top=False, input_shape = (200, 200, 3))\n",
        "x = base_model.output\n",
        "x = Flatten(input_shape=base_model.output_shape[1:])(x)\n",
        "x = Dense(2048, activation='relu')(x)\n",
        "x = Dropout(0.5)(x)\n",
        "# and a logistic layer -- let's say we have 200 classes\n",
        "predictions = Dense(4, activation = 'softmax') (x)\n",
        "\n",
        "# this is the model we will train\n",
        "model = Model(inputs=base_model.input, outputs=predictions)\n",
        "\n",
        "for i, layer in enumerate(model.layers):\n",
        "   print(i, layer.name)\n",
        "\n",
        "# set the first 25 layers (up to the last conv block)\n",
        "# to non-trainable (weights will not be updated)\n",
        "for layer in model.layers[:22]:\n",
        "    layer.trainable = False\n",
        "\n",
        "# compile the model with a SGD/momentum optimizer\n",
        "# and a very slow learning rate.\n",
        "model.compile(loss='categorical_crossentropy',optimizer=SGD(lr=1e-4, momentum=0.9),metrics=metrics)"
      ],
      "execution_count": 0,
      "outputs": [
        {
          "output_type": "stream",
          "text": [
            "0 input_3\n",
            "1 block1_conv1\n",
            "2 block1_conv2\n",
            "3 block1_pool\n",
            "4 block2_conv1\n",
            "5 block2_conv2\n",
            "6 block2_pool\n",
            "7 block3_conv1\n",
            "8 block3_conv2\n",
            "9 block3_conv3\n",
            "10 block3_conv4\n",
            "11 block3_pool\n",
            "12 block4_conv1\n",
            "13 block4_conv2\n",
            "14 block4_conv3\n",
            "15 block4_conv4\n",
            "16 block4_pool\n",
            "17 block5_conv1\n",
            "18 block5_conv2\n",
            "19 block5_conv3\n",
            "20 block5_conv4\n",
            "21 block5_pool\n",
            "22 flatten_3\n",
            "23 dense_5\n",
            "24 dropout_3\n",
            "25 dense_6\n"
          ],
          "name": "stdout"
        }
      ]
    },
    {
      "cell_type": "code",
      "metadata": {
        "id": "xGX5wj4q7PFT",
        "colab_type": "code",
        "colab": {}
      },
      "source": [
        "#preprocessing\n",
        "\n",
        "batch_size = 32\n",
        "from tensorflow.keras.preprocessing.image import ImageDataGenerator\n",
        "from tensorflow.keras.preprocessing.image import array_to_img, img_to_array, load_img\n",
        "datagen = ImageDataGenerator(\n",
        "    samplewise_center=False,\n",
        "    samplewise_std_normalization=False) # set validation split\n"
      ],
      "execution_count": 0,
      "outputs": []
    },
    {
      "cell_type": "code",
      "metadata": {
        "id": "0v7Ul5CCdVKa",
        "colab_type": "code",
        "colab": {}
      },
      "source": [
        "x=1"
      ],
      "execution_count": 0,
      "outputs": []
    },
    {
      "cell_type": "code",
      "metadata": {
        "id": "Rfx4zD-7G6ef",
        "colab_type": "code",
        "colab": {}
      },
      "source": [
        "datagen.fit(X_train)"
      ],
      "execution_count": 0,
      "outputs": []
    },
    {
      "cell_type": "code",
      "metadata": {
        "id": "4TDfSvQLgwGF",
        "colab_type": "code",
        "colab": {}
      },
      "source": [
        ""
      ],
      "execution_count": 0,
      "outputs": []
    },
    {
      "cell_type": "code",
      "metadata": {
        "id": "PbUjGf2Z-Vdk",
        "colab_type": "code",
        "outputId": "2d9b3a10-3d44-45ee-c7d7-39e18b73d8cc",
        "colab": {
          "base_uri": "https://localhost:8080/",
          "height": 1000
        }
      },
      "source": [
        "history1=model.fit_generator(    \n",
        "    datagen.flow(X_train, y_train, batch_size=32),\n",
        "    steps_per_epoch = len(X_train) // batch_size,\n",
        "    validation_data = (X_test,y_test), \n",
        "    class_weight = 'balanced',\n",
        "    epochs = 50,callbacks=[checkpointer,tensorboard])"
      ],
      "execution_count": 0,
      "outputs": [
        {
          "output_type": "stream",
          "text": [
            "Epoch 1/50\n",
            "64/64 [==============================] - 7s 110ms/step - loss: 1.3089 - categorical_accuracy: 0.4272 - precision: 0.6146 - recall: 0.3299 - val_loss: 0.9204 - val_categorical_accuracy: 0.7135 - val_precision: 1.0000 - val_recall: 0.3706\n",
            "\n",
            "Epoch 00001: val_loss did not improve from 0.27797\n",
            "Epoch 2/50\n",
            "64/64 [==============================] - 7s 107ms/step - loss: 0.9062 - categorical_accuracy: 0.6372 - precision: 0.8778 - recall: 0.6017 - val_loss: 0.7429 - val_categorical_accuracy: 0.7836 - val_precision: 1.0000 - val_recall: 0.8671\n",
            "\n",
            "Epoch 00002: val_loss did not improve from 0.27797\n",
            "Epoch 3/50\n",
            "64/64 [==============================] - 7s 106ms/step - loss: 0.7623 - categorical_accuracy: 0.7236 - precision: 0.9329 - recall: 0.7607 - val_loss: 0.6890 - val_categorical_accuracy: 0.7953 - val_precision: 0.9699 - val_recall: 0.9021\n",
            "\n",
            "Epoch 00003: val_loss did not improve from 0.27797\n",
            "Epoch 4/50\n",
            "64/64 [==============================] - 7s 106ms/step - loss: 0.6773 - categorical_accuracy: 0.7700 - precision: 0.9519 - recall: 0.8120 - val_loss: 0.6176 - val_categorical_accuracy: 0.8090 - val_precision: 1.0000 - val_recall: 0.8881\n",
            "\n",
            "Epoch 00004: val_loss did not improve from 0.27797\n",
            "Epoch 5/50\n",
            "64/64 [==============================] - 7s 106ms/step - loss: 0.6020 - categorical_accuracy: 0.8086 - precision: 0.9705 - recall: 0.8444 - val_loss: 0.5755 - val_categorical_accuracy: 0.8343 - val_precision: 1.0000 - val_recall: 0.8951\n",
            "\n",
            "Epoch 00005: val_loss did not improve from 0.27797\n",
            "Epoch 6/50\n",
            "64/64 [==============================] - 7s 106ms/step - loss: 0.5714 - categorical_accuracy: 0.8135 - precision: 0.9712 - recall: 0.8650 - val_loss: 0.5260 - val_categorical_accuracy: 0.8538 - val_precision: 0.9850 - val_recall: 0.9161\n",
            "\n",
            "Epoch 00006: val_loss did not improve from 0.27797\n",
            "Epoch 7/50\n",
            "64/64 [==============================] - 7s 106ms/step - loss: 0.5180 - categorical_accuracy: 0.8389 - precision: 0.9664 - recall: 0.8838 - val_loss: 0.4919 - val_categorical_accuracy: 0.8538 - val_precision: 1.0000 - val_recall: 0.8951\n",
            "\n",
            "Epoch 00007: val_loss did not improve from 0.27797\n",
            "Epoch 8/50\n",
            "64/64 [==============================] - 7s 106ms/step - loss: 0.5066 - categorical_accuracy: 0.8379 - precision: 0.9738 - recall: 0.8906 - val_loss: 0.4764 - val_categorical_accuracy: 0.8596 - val_precision: 0.9924 - val_recall: 0.9161\n",
            "\n",
            "Epoch 00008: val_loss did not improve from 0.27797\n",
            "Epoch 9/50\n",
            "64/64 [==============================] - 7s 106ms/step - loss: 0.4733 - categorical_accuracy: 0.8525 - precision: 0.9741 - recall: 0.8991 - val_loss: 0.4453 - val_categorical_accuracy: 0.8694 - val_precision: 1.0000 - val_recall: 0.9161\n",
            "\n",
            "Epoch 00009: val_loss did not improve from 0.27797\n",
            "Epoch 10/50\n",
            "64/64 [==============================] - 7s 106ms/step - loss: 0.4525 - categorical_accuracy: 0.8535 - precision: 0.9741 - recall: 0.9009 - val_loss: 0.4316 - val_categorical_accuracy: 0.8694 - val_precision: 1.0000 - val_recall: 0.9161\n",
            "\n",
            "Epoch 00010: val_loss did not improve from 0.27797\n",
            "Epoch 11/50\n",
            "64/64 [==============================] - 7s 106ms/step - loss: 0.4261 - categorical_accuracy: 0.8696 - precision: 0.9815 - recall: 0.9077 - val_loss: 0.4145 - val_categorical_accuracy: 0.8733 - val_precision: 1.0000 - val_recall: 0.9231\n",
            "\n",
            "Epoch 00011: val_loss did not improve from 0.27797\n",
            "Epoch 12/50\n",
            "64/64 [==============================] - 7s 105ms/step - loss: 0.4138 - categorical_accuracy: 0.8735 - precision: 0.9889 - recall: 0.9162 - val_loss: 0.4499 - val_categorical_accuracy: 0.8402 - val_precision: 0.9924 - val_recall: 0.9161\n",
            "\n",
            "Epoch 00012: val_loss did not improve from 0.27797\n",
            "Epoch 13/50\n",
            "64/64 [==============================] - 7s 106ms/step - loss: 0.3986 - categorical_accuracy: 0.8779 - precision: 0.9764 - recall: 0.9214 - val_loss: 0.3896 - val_categorical_accuracy: 0.8908 - val_precision: 1.0000 - val_recall: 0.9161\n",
            "\n",
            "Epoch 00013: val_loss did not improve from 0.27797\n",
            "Epoch 14/50\n",
            "64/64 [==============================] - 7s 106ms/step - loss: 0.3818 - categorical_accuracy: 0.8818 - precision: 0.9833 - recall: 0.9077 - val_loss: 0.3852 - val_categorical_accuracy: 0.8869 - val_precision: 0.9925 - val_recall: 0.9301\n",
            "\n",
            "Epoch 00014: val_loss did not improve from 0.27797\n",
            "Epoch 15/50\n",
            "64/64 [==============================] - 7s 106ms/step - loss: 0.3745 - categorical_accuracy: 0.8794 - precision: 0.9835 - recall: 0.9197 - val_loss: 0.3708 - val_categorical_accuracy: 0.8830 - val_precision: 0.9855 - val_recall: 0.9510\n",
            "\n",
            "Epoch 00015: val_loss did not improve from 0.27797\n",
            "Epoch 16/50\n",
            "64/64 [==============================] - 7s 106ms/step - loss: 0.3625 - categorical_accuracy: 0.8843 - precision: 0.9783 - recall: 0.9265 - val_loss: 0.3589 - val_categorical_accuracy: 0.8889 - val_precision: 1.0000 - val_recall: 0.9161\n",
            "\n",
            "Epoch 00016: val_loss did not improve from 0.27797\n",
            "Epoch 17/50\n",
            "64/64 [==============================] - 7s 106ms/step - loss: 0.3598 - categorical_accuracy: 0.8872 - precision: 0.9746 - recall: 0.9197 - val_loss: 0.3508 - val_categorical_accuracy: 0.8908 - val_precision: 1.0000 - val_recall: 0.9371\n",
            "\n",
            "Epoch 00017: val_loss did not improve from 0.27797\n",
            "Epoch 18/50\n",
            "64/64 [==============================] - 7s 106ms/step - loss: 0.3453 - categorical_accuracy: 0.8916 - precision: 0.9872 - recall: 0.9231 - val_loss: 0.3354 - val_categorical_accuracy: 0.8986 - val_precision: 1.0000 - val_recall: 0.9371\n",
            "\n",
            "Epoch 00018: val_loss did not improve from 0.27797\n",
            "Epoch 19/50\n",
            "64/64 [==============================] - 7s 106ms/step - loss: 0.3398 - categorical_accuracy: 0.8975 - precision: 0.9821 - recall: 0.9385 - val_loss: 0.3408 - val_categorical_accuracy: 0.8947 - val_precision: 1.0000 - val_recall: 0.9301\n",
            "\n",
            "Epoch 00019: val_loss did not improve from 0.27797\n",
            "Epoch 20/50\n",
            "64/64 [==============================] - 7s 106ms/step - loss: 0.3230 - categorical_accuracy: 0.9023 - precision: 0.9820 - recall: 0.9333 - val_loss: 0.3362 - val_categorical_accuracy: 0.8850 - val_precision: 0.9928 - val_recall: 0.9580\n",
            "\n",
            "Epoch 00020: val_loss did not improve from 0.27797\n",
            "Epoch 21/50\n",
            "64/64 [==============================] - 7s 107ms/step - loss: 0.3138 - categorical_accuracy: 0.8999 - precision: 0.9823 - recall: 0.9487 - val_loss: 0.3445 - val_categorical_accuracy: 0.8811 - val_precision: 1.0000 - val_recall: 0.9231\n",
            "\n",
            "Epoch 00021: val_loss did not improve from 0.27797\n",
            "Epoch 22/50\n",
            "64/64 [==============================] - 7s 108ms/step - loss: 0.3167 - categorical_accuracy: 0.9062 - precision: 0.9874 - recall: 0.9385 - val_loss: 0.3355 - val_categorical_accuracy: 0.8967 - val_precision: 1.0000 - val_recall: 0.9301\n",
            "\n",
            "Epoch 00022: val_loss did not improve from 0.27797\n",
            "Epoch 23/50\n",
            "64/64 [==============================] - 7s 106ms/step - loss: 0.3014 - categorical_accuracy: 0.9150 - precision: 0.9891 - recall: 0.9333 - val_loss: 0.3140 - val_categorical_accuracy: 0.8967 - val_precision: 1.0000 - val_recall: 0.9441\n",
            "\n",
            "Epoch 00023: val_loss did not improve from 0.27797\n",
            "Epoch 24/50\n",
            "64/64 [==============================] - 7s 107ms/step - loss: 0.2889 - categorical_accuracy: 0.9146 - precision: 0.9911 - recall: 0.9504 - val_loss: 0.2984 - val_categorical_accuracy: 0.9025 - val_precision: 1.0000 - val_recall: 0.9510\n",
            "\n",
            "Epoch 00024: val_loss did not improve from 0.27797\n",
            "Epoch 25/50\n",
            "64/64 [==============================] - 7s 106ms/step - loss: 0.2840 - categorical_accuracy: 0.9131 - precision: 0.9858 - recall: 0.9470 - val_loss: 0.2978 - val_categorical_accuracy: 0.9123 - val_precision: 1.0000 - val_recall: 0.9510\n",
            "\n",
            "Epoch 00025: val_loss did not improve from 0.27797\n",
            "Epoch 26/50\n",
            "64/64 [==============================] - 7s 106ms/step - loss: 0.2811 - categorical_accuracy: 0.9146 - precision: 0.9806 - recall: 0.9487 - val_loss: 0.2912 - val_categorical_accuracy: 0.9142 - val_precision: 1.0000 - val_recall: 0.9441\n",
            "\n",
            "Epoch 00026: val_loss did not improve from 0.27797\n",
            "Epoch 27/50\n",
            "64/64 [==============================] - 7s 107ms/step - loss: 0.2783 - categorical_accuracy: 0.9165 - precision: 0.9875 - recall: 0.9436 - val_loss: 0.2956 - val_categorical_accuracy: 0.9064 - val_precision: 1.0000 - val_recall: 0.9510\n",
            "\n",
            "Epoch 00027: val_loss did not improve from 0.27797\n",
            "Epoch 28/50\n",
            "64/64 [==============================] - 7s 107ms/step - loss: 0.2706 - categorical_accuracy: 0.9194 - precision: 0.9839 - recall: 0.9419 - val_loss: 0.2980 - val_categorical_accuracy: 0.8986 - val_precision: 0.9927 - val_recall: 0.9510\n",
            "\n",
            "Epoch 00028: val_loss did not improve from 0.27797\n",
            "Epoch 29/50\n",
            "64/64 [==============================] - 7s 107ms/step - loss: 0.2645 - categorical_accuracy: 0.9253 - precision: 0.9858 - recall: 0.9521 - val_loss: 0.2818 - val_categorical_accuracy: 0.9142 - val_precision: 1.0000 - val_recall: 0.9580\n",
            "\n",
            "Epoch 00029: val_loss did not improve from 0.27797\n",
            "Epoch 30/50\n",
            "64/64 [==============================] - 7s 107ms/step - loss: 0.2671 - categorical_accuracy: 0.9185 - precision: 0.9893 - recall: 0.9487 - val_loss: 0.2848 - val_categorical_accuracy: 0.9025 - val_precision: 1.0000 - val_recall: 0.9580\n",
            "\n",
            "Epoch 00030: val_loss did not improve from 0.27797\n",
            "Epoch 31/50\n",
            "64/64 [==============================] - 7s 106ms/step - loss: 0.2628 - categorical_accuracy: 0.9229 - precision: 0.9823 - recall: 0.9487 - val_loss: 0.2765 - val_categorical_accuracy: 0.9181 - val_precision: 1.0000 - val_recall: 0.9510\n",
            "\n",
            "Epoch 00031: val_loss improved from 0.27797 to 0.27648, saving model to /content/drive/My Drive/model_vgg19_crop_best_200.h5\n",
            "Epoch 32/50\n",
            "64/64 [==============================] - 7s 107ms/step - loss: 0.2505 - categorical_accuracy: 0.9248 - precision: 0.9823 - recall: 0.9470 - val_loss: 0.2731 - val_categorical_accuracy: 0.9181 - val_precision: 1.0000 - val_recall: 0.9580\n",
            "\n",
            "Epoch 00032: val_loss improved from 0.27648 to 0.27314, saving model to /content/drive/My Drive/model_vgg19_crop_best_200.h5\n",
            "Epoch 33/50\n",
            "64/64 [==============================] - 7s 107ms/step - loss: 0.2454 - categorical_accuracy: 0.9321 - precision: 0.9840 - recall: 0.9487 - val_loss: 0.2813 - val_categorical_accuracy: 0.9045 - val_precision: 1.0000 - val_recall: 0.9580\n",
            "\n",
            "Epoch 00033: val_loss did not improve from 0.27314\n",
            "Epoch 34/50\n",
            "64/64 [==============================] - 7s 107ms/step - loss: 0.2377 - categorical_accuracy: 0.9312 - precision: 0.9877 - recall: 0.9590 - val_loss: 0.2879 - val_categorical_accuracy: 0.9006 - val_precision: 1.0000 - val_recall: 0.9510\n",
            "\n",
            "Epoch 00034: val_loss did not improve from 0.27314\n",
            "Epoch 35/50\n",
            "64/64 [==============================] - 7s 106ms/step - loss: 0.2409 - categorical_accuracy: 0.9258 - precision: 0.9859 - recall: 0.9556 - val_loss: 0.2575 - val_categorical_accuracy: 0.9162 - val_precision: 0.9928 - val_recall: 0.9650\n",
            "\n",
            "Epoch 00035: val_loss improved from 0.27314 to 0.25749, saving model to /content/drive/My Drive/model_vgg19_crop_best_200.h5\n",
            "Epoch 36/50\n",
            "64/64 [==============================] - 7s 107ms/step - loss: 0.2365 - categorical_accuracy: 0.9326 - precision: 0.9877 - recall: 0.9573 - val_loss: 0.2641 - val_categorical_accuracy: 0.9064 - val_precision: 0.9928 - val_recall: 0.9580\n",
            "\n",
            "Epoch 00036: val_loss did not improve from 0.25749\n",
            "Epoch 37/50\n",
            "64/64 [==============================] - 7s 108ms/step - loss: 0.2281 - categorical_accuracy: 0.9351 - precision: 0.9929 - recall: 0.9607 - val_loss: 0.2512 - val_categorical_accuracy: 0.9220 - val_precision: 1.0000 - val_recall: 0.9510\n",
            "\n",
            "Epoch 00037: val_loss improved from 0.25749 to 0.25120, saving model to /content/drive/My Drive/model_vgg19_crop_best_200.h5\n",
            "Epoch 38/50\n",
            "64/64 [==============================] - 7s 107ms/step - loss: 0.2299 - categorical_accuracy: 0.9355 - precision: 0.9893 - recall: 0.9453 - val_loss: 0.2492 - val_categorical_accuracy: 0.9220 - val_precision: 0.9928 - val_recall: 0.9580\n",
            "\n",
            "Epoch 00038: val_loss improved from 0.25120 to 0.24923, saving model to /content/drive/My Drive/model_vgg19_crop_best_200.h5\n",
            "Epoch 39/50\n",
            "64/64 [==============================] - 7s 107ms/step - loss: 0.2294 - categorical_accuracy: 0.9380 - precision: 0.9912 - recall: 0.9573 - val_loss: 0.2628 - val_categorical_accuracy: 0.9103 - val_precision: 1.0000 - val_recall: 0.9510\n",
            "\n",
            "Epoch 00039: val_loss did not improve from 0.24923\n",
            "Epoch 40/50\n",
            "64/64 [==============================] - 7s 107ms/step - loss: 0.2275 - categorical_accuracy: 0.9375 - precision: 0.9912 - recall: 0.9607 - val_loss: 0.2489 - val_categorical_accuracy: 0.9181 - val_precision: 1.0000 - val_recall: 0.9580\n",
            "\n",
            "Epoch 00040: val_loss improved from 0.24923 to 0.24886, saving model to /content/drive/My Drive/model_vgg19_crop_best_200.h5\n",
            "Epoch 41/50\n",
            "64/64 [==============================] - 7s 107ms/step - loss: 0.2163 - categorical_accuracy: 0.9375 - precision: 0.9895 - recall: 0.9624 - val_loss: 0.2493 - val_categorical_accuracy: 0.9162 - val_precision: 1.0000 - val_recall: 0.9510\n",
            "\n",
            "Epoch 00041: val_loss did not improve from 0.24886\n",
            "Epoch 42/50\n",
            "64/64 [==============================] - 7s 108ms/step - loss: 0.2130 - categorical_accuracy: 0.9385 - precision: 0.9929 - recall: 0.9607 - val_loss: 0.2368 - val_categorical_accuracy: 0.9201 - val_precision: 1.0000 - val_recall: 0.9580\n",
            "\n",
            "Epoch 00042: val_loss improved from 0.24886 to 0.23676, saving model to /content/drive/My Drive/model_vgg19_crop_best_200.h5\n",
            "Epoch 43/50\n",
            "64/64 [==============================] - 7s 107ms/step - loss: 0.2144 - categorical_accuracy: 0.9370 - precision: 0.9876 - recall: 0.9538 - val_loss: 0.2344 - val_categorical_accuracy: 0.9240 - val_precision: 1.0000 - val_recall: 0.9580\n",
            "\n",
            "Epoch 00043: val_loss improved from 0.23676 to 0.23437, saving model to /content/drive/My Drive/model_vgg19_crop_best_200.h5\n",
            "Epoch 44/50\n",
            "64/64 [==============================] - 7s 108ms/step - loss: 0.2119 - categorical_accuracy: 0.9409 - precision: 0.9877 - recall: 0.9607 - val_loss: 0.2452 - val_categorical_accuracy: 0.9162 - val_precision: 1.0000 - val_recall: 0.9510\n",
            "\n",
            "Epoch 00044: val_loss did not improve from 0.23437\n",
            "Epoch 45/50\n",
            "64/64 [==============================] - 7s 107ms/step - loss: 0.2062 - categorical_accuracy: 0.9375 - precision: 0.9843 - recall: 0.9658 - val_loss: 0.2378 - val_categorical_accuracy: 0.9220 - val_precision: 1.0000 - val_recall: 0.9510\n",
            "\n",
            "Epoch 00045: val_loss did not improve from 0.23437\n",
            "Epoch 46/50\n",
            "64/64 [==============================] - 7s 107ms/step - loss: 0.2012 - categorical_accuracy: 0.9424 - precision: 0.9912 - recall: 0.9675 - val_loss: 0.2340 - val_categorical_accuracy: 0.9240 - val_precision: 1.0000 - val_recall: 0.9510\n",
            "\n",
            "Epoch 00046: val_loss improved from 0.23437 to 0.23401, saving model to /content/drive/My Drive/model_vgg19_crop_best_200.h5\n",
            "Epoch 47/50\n",
            "64/64 [==============================] - 7s 107ms/step - loss: 0.2043 - categorical_accuracy: 0.9404 - precision: 0.9876 - recall: 0.9556 - val_loss: 0.2450 - val_categorical_accuracy: 0.9162 - val_precision: 1.0000 - val_recall: 0.9580\n",
            "\n",
            "Epoch 00047: val_loss did not improve from 0.23401\n",
            "Epoch 48/50\n",
            "64/64 [==============================] - 7s 107ms/step - loss: 0.1993 - categorical_accuracy: 0.9395 - precision: 0.9965 - recall: 0.9675 - val_loss: 0.2395 - val_categorical_accuracy: 0.9220 - val_precision: 1.0000 - val_recall: 0.9510\n",
            "\n",
            "Epoch 00048: val_loss did not improve from 0.23401\n",
            "Epoch 49/50\n",
            "64/64 [==============================] - 7s 107ms/step - loss: 0.2007 - categorical_accuracy: 0.9409 - precision: 0.9912 - recall: 0.9675 - val_loss: 0.2256 - val_categorical_accuracy: 0.9259 - val_precision: 1.0000 - val_recall: 0.9580\n",
            "\n",
            "Epoch 00049: val_loss improved from 0.23401 to 0.22562, saving model to /content/drive/My Drive/model_vgg19_crop_best_200.h5\n",
            "Epoch 50/50\n",
            "64/64 [==============================] - 7s 107ms/step - loss: 0.1995 - categorical_accuracy: 0.9404 - precision: 0.9947 - recall: 0.9607 - val_loss: 0.2321 - val_categorical_accuracy: 0.9181 - val_precision: 0.9929 - val_recall: 0.9720\n",
            "\n",
            "Epoch 00050: val_loss did not improve from 0.22562\n"
          ],
          "name": "stdout"
        }
      ]
    },
    {
      "cell_type": "code",
      "metadata": {
        "id": "k_TQhPe1cp2P",
        "colab_type": "code",
        "outputId": "515cb3b6-c6e5-4350-927b-0db94c87b354",
        "colab": {
          "base_uri": "https://localhost:8080/",
          "height": 545
        }
      },
      "source": [
        "from matplotlib import pyplot\n",
        "\n",
        "pyplot.plot(history1.history['categorical_accuracy'])\n",
        "pyplot.plot(history1.history['val_categorical_accuracy'])\n",
        "pyplot.title('Training and validation accuracy')\n",
        "pyplot.show()\n",
        "\n",
        "pyplot.plot(history1.history['loss'])\n",
        "pyplot.plot(history1.history['val_loss'])\n",
        "pyplot.title('Training and validation loss')\n",
        "pyplot.show()"
      ],
      "execution_count": 0,
      "outputs": [
        {
          "output_type": "display_data",
          "data": {
            "image/png": "[encoded data removed]",
            "text/plain": [
              "<Figure size 432x288 with 1 Axes>"
            ]
          },
          "metadata": {
            "tags": []
          }
        },
        {
          "output_type": "display_data",
          "data": {
            "image/png": "[encoded data removed]",
            "text/plain": [
              "<Figure size 432x288 with 1 Axes>"
            ]
          },
          "metadata": {
            "tags": []
          }
        }
      ]
    },
    {
      "cell_type": "code",
      "metadata": {
        "id": "wLWUc88us6v5",
        "colab_type": "code",
        "outputId": "1c85f78c-3aee-455d-bdc4-97296e89b241",
        "colab": {
          "base_uri": "https://localhost:8080/",
          "height": 119
        }
      },
      "source": [
        "#Confution Matrix and Classification Report\n",
        "import numpy as np\n",
        "from sklearn.metrics import classification_report, confusion_matrix\n",
        "Y_pred = model.predict(X_test)\n",
        "y_pred = np.argmax(Y_pred, axis=1)\n",
        "print('Confusion Matrix')\n",
        "print(confusion_matrix(np.argmax(y_test, axis =1), y_pred))\n",
        "print('Classification Report')\n",
        "#print(classification_report(validation_generator.classes, y_pred, target_names=labels))"
      ],
      "execution_count": 0,
      "outputs": [
        {
          "output_type": "stream",
          "text": [
            "Confusion Matrix\n",
            "[[140   1   2   0]\n",
            " [  0 122   6   0]\n",
            " [  2  12 110   5]\n",
            " [  2   4   8  99]]\n",
            "Classification Report\n"
          ],
          "name": "stdout"
        }
      ]
    },
    {
      "cell_type": "code",
      "metadata": {
        "id": "bPYV1rnMdzcB",
        "colab_type": "code",
        "outputId": "bc6d8cec-c5cc-445e-d361-5e00aeabb2a8",
        "colab": {
          "base_uri": "https://localhost:8080/",
          "height": 34
        }
      },
      "source": [
        "617/(617+69+9+91+146+35)"
      ],
      "execution_count": 0,
      "outputs": [
        {
          "output_type": "execute_result",
          "data": {
            "text/plain": [
              "0.6380558428128231"
            ]
          },
          "metadata": {
            "tags": []
          },
          "execution_count": 18
        }
      ]
    },
    {
      "cell_type": "code",
      "metadata": {
        "id": "rDeZfOjcaAow",
        "colab_type": "code",
        "colab": {}
      },
      "source": [
        "model.load_weights(\"/content/drive/My Drive/model_vgg19_crop_best_200.h5\")"
      ],
      "execution_count": 0,
      "outputs": []
    },
    {
      "cell_type": "code",
      "metadata": {
        "id": "w_6sQDlhtmr4",
        "colab_type": "code",
        "outputId": "6975bc70-f9a4-4d0a-d323-4f5f2a2424cb",
        "colab": {
          "base_uri": "https://localhost:8080/",
          "height": 391
        }
      },
      "source": [
        "# at this point, the top layers are well trained and we can start fine-tuning\n",
        "# convolutional layers from VGG16. We will freeze the bottom N layers\n",
        "# and train the remaining top layers.\n",
        "\n",
        "# let's visualize layer names and layer indices to see how many layers\n",
        "# we should freeze:\n",
        "for i, layer in enumerate(base_model.layers):\n",
        "   print(i, layer.name)\n",
        "\n",
        "# we chose to train the first convolution blocks, i.e. we will freeze\n",
        "# the first 15 layers and unfreeze the rest:\n",
        "for layer in model.layers[:16]: #15\n",
        "   layer.trainable = False\n",
        "for layer in model.layers[16:]:\n",
        "   layer.trainable = True"
      ],
      "execution_count": 0,
      "outputs": [
        {
          "output_type": "stream",
          "text": [
            "0 input_3\n",
            "1 block1_conv1\n",
            "2 block1_conv2\n",
            "3 block1_pool\n",
            "4 block2_conv1\n",
            "5 block2_conv2\n",
            "6 block2_pool\n",
            "7 block3_conv1\n",
            "8 block3_conv2\n",
            "9 block3_conv3\n",
            "10 block3_conv4\n",
            "11 block3_pool\n",
            "12 block4_conv1\n",
            "13 block4_conv2\n",
            "14 block4_conv3\n",
            "15 block4_conv4\n",
            "16 block4_pool\n",
            "17 block5_conv1\n",
            "18 block5_conv2\n",
            "19 block5_conv3\n",
            "20 block5_conv4\n",
            "21 block5_pool\n"
          ],
          "name": "stdout"
        }
      ]
    },
    {
      "cell_type": "code",
      "metadata": {
        "id": "RWMkdnz0t-Zg",
        "colab_type": "code",
        "outputId": "bcbf8dd2-c462-4297-c757-f57fde64f9d8",
        "colab": {
          "base_uri": "https://localhost:8080/",
          "height": 1000
        }
      },
      "source": [
        "# we need to recompile the model for these modifications to take effect\n",
        "# we use SGD with a low learning rate\n",
        "from keras.optimizers import SGD\n",
        "#metrics= ['categorical_accuracy']\n",
        "model.compile(optimizer=SGD(lr=0.001, momentum=0.9), loss='categorical_crossentropy', metrics=['categorical_accuracy'])\n",
        "model.summary()"
      ],
      "execution_count": 0,
      "outputs": [
        {
          "output_type": "stream",
          "text": [
            "Model: \"model_3\"\n",
            "_________________________________________________________________\n",
            "Layer (type)                 Output Shape              Param #   \n",
            "=================================================================\n",
            "input_3 (InputLayer)         (None, 200, 200, 3)       0         \n",
            "_________________________________________________________________\n",
            "block1_conv1 (Conv2D)        (None, 200, 200, 64)      1792      \n",
            "_________________________________________________________________\n",
            "block1_conv2 (Conv2D)        (None, 200, 200, 64)      36928     \n",
            "_________________________________________________________________\n",
            "block1_pool (MaxPooling2D)   (None, 100, 100, 64)      0         \n",
            "_________________________________________________________________\n",
            "block2_conv1 (Conv2D)        (None, 100, 100, 128)     73856     \n",
            "_________________________________________________________________\n",
            "block2_conv2 (Conv2D)        (None, 100, 100, 128)     147584    \n",
            "_________________________________________________________________\n",
            "block2_pool (MaxPooling2D)   (None, 50, 50, 128)       0         \n",
            "_________________________________________________________________\n",
            "block3_conv1 (Conv2D)        (None, 50, 50, 256)       295168    \n",
            "_________________________________________________________________\n",
            "block3_conv2 (Conv2D)        (None, 50, 50, 256)       590080    \n",
            "_________________________________________________________________\n",
            "block3_conv3 (Conv2D)        (None, 50, 50, 256)       590080    \n",
            "_________________________________________________________________\n",
            "block3_conv4 (Conv2D)        (None, 50, 50, 256)       590080    \n",
            "_________________________________________________________________\n",
            "block3_pool (MaxPooling2D)   (None, 25, 25, 256)       0         \n",
            "_________________________________________________________________\n",
            "block4_conv1 (Conv2D)        (None, 25, 25, 512)       1180160   \n",
            "_________________________________________________________________\n",
            "block4_conv2 (Conv2D)        (None, 25, 25, 512)       2359808   \n",
            "_________________________________________________________________\n",
            "block4_conv3 (Conv2D)        (None, 25, 25, 512)       2359808   \n",
            "_________________________________________________________________\n",
            "block4_conv4 (Conv2D)        (None, 25, 25, 512)       2359808   \n",
            "_________________________________________________________________\n",
            "block4_pool (MaxPooling2D)   (None, 12, 12, 512)       0         \n",
            "_________________________________________________________________\n",
            "block5_conv1 (Conv2D)        (None, 12, 12, 512)       2359808   \n",
            "_________________________________________________________________\n",
            "block5_conv2 (Conv2D)        (None, 12, 12, 512)       2359808   \n",
            "_________________________________________________________________\n",
            "block5_conv3 (Conv2D)        (None, 12, 12, 512)       2359808   \n",
            "_________________________________________________________________\n",
            "block5_conv4 (Conv2D)        (None, 12, 12, 512)       2359808   \n",
            "_________________________________________________________________\n",
            "block5_pool (MaxPooling2D)   (None, 6, 6, 512)         0         \n",
            "_________________________________________________________________\n",
            "flatten_3 (Flatten)          (None, 18432)             0         \n",
            "_________________________________________________________________\n",
            "dense_5 (Dense)              (None, 2048)              37750784  \n",
            "_________________________________________________________________\n",
            "dropout_3 (Dropout)          (None, 2048)              0         \n",
            "_________________________________________________________________\n",
            "dense_6 (Dense)              (None, 4)                 8196      \n",
            "=================================================================\n",
            "Total params: 57,783,364\n",
            "Trainable params: 47,198,212\n",
            "Non-trainable params: 10,585,152\n",
            "_________________________________________________________________\n"
          ],
          "name": "stdout"
        }
      ]
    },
    {
      "cell_type": "code",
      "metadata": {
        "id": "aVngG-1quAyt",
        "colab_type": "code",
        "outputId": "a2254296-0ff6-464d-ed0d-367607526941",
        "colab": {
          "base_uri": "https://localhost:8080/",
          "height": 717
        }
      },
      "source": [
        "history2=model.fit_generator(    \n",
        "    datagen.flow(X_train, y_train, batch_size=32),\n",
        "    steps_per_epoch = len(X_train) // batch_size,\n",
        "    validation_data = (X_test,y_test), \n",
        "    class_weight = 'balanced',\n",
        "    epochs = 10,callbacks=[tensorboard,checkpointer])"
      ],
      "execution_count": 0,
      "outputs": [
        {
          "output_type": "stream",
          "text": [
            "Epoch 1/10\n",
            "64/64 [==============================] - 8s 121ms/step - loss: 0.4144 - categorical_accuracy: 0.8584 - val_loss: 0.1963 - val_categorical_accuracy: 0.9279\n",
            "\n",
            "Epoch 00001: val_loss improved from 0.22562 to 0.19626, saving model to /content/drive/My Drive/model_vgg19_crop_best_200.h5\n",
            "Epoch 2/10\n",
            "64/64 [==============================] - 7s 116ms/step - loss: 0.1752 - categorical_accuracy: 0.9355 - val_loss: 0.1536 - val_categorical_accuracy: 0.9396\n",
            "\n",
            "Epoch 00002: val_loss improved from 0.19626 to 0.15358, saving model to /content/drive/My Drive/model_vgg19_crop_best_200.h5\n",
            "Epoch 3/10\n",
            "64/64 [==============================] - 7s 116ms/step - loss: 0.1181 - categorical_accuracy: 0.9590 - val_loss: 0.1068 - val_categorical_accuracy: 0.9571\n",
            "\n",
            "Epoch 00003: val_loss improved from 0.15358 to 0.10684, saving model to /content/drive/My Drive/model_vgg19_crop_best_200.h5\n",
            "Epoch 4/10\n",
            "64/64 [==============================] - 7s 116ms/step - loss: 0.0502 - categorical_accuracy: 0.9839 - val_loss: 0.1212 - val_categorical_accuracy: 0.9493\n",
            "\n",
            "Epoch 00004: val_loss did not improve from 0.10684\n",
            "Epoch 5/10\n",
            "64/64 [==============================] - 7s 116ms/step - loss: 0.0373 - categorical_accuracy: 0.9873 - val_loss: 0.1445 - val_categorical_accuracy: 0.9513\n",
            "\n",
            "Epoch 00005: val_loss did not improve from 0.10684\n",
            "Epoch 6/10\n",
            "64/64 [==============================] - 7s 116ms/step - loss: 0.0273 - categorical_accuracy: 0.9922 - val_loss: 0.1264 - val_categorical_accuracy: 0.9571\n",
            "\n",
            "Epoch 00006: val_loss did not improve from 0.10684\n",
            "Epoch 7/10\n",
            "64/64 [==============================] - 7s 115ms/step - loss: 0.0280 - categorical_accuracy: 0.9907 - val_loss: 0.1119 - val_categorical_accuracy: 0.9513\n",
            "\n",
            "Epoch 00007: val_loss did not improve from 0.10684\n",
            "Epoch 8/10\n",
            "64/64 [==============================] - 7s 116ms/step - loss: 0.0204 - categorical_accuracy: 0.9927 - val_loss: 0.1002 - val_categorical_accuracy: 0.9669\n",
            "\n",
            "Epoch 00008: val_loss improved from 0.10684 to 0.10021, saving model to /content/drive/My Drive/model_vgg19_crop_best_200.h5\n",
            "Epoch 9/10\n",
            "64/64 [==============================] - 7s 116ms/step - loss: 0.0077 - categorical_accuracy: 0.9985 - val_loss: 0.1040 - val_categorical_accuracy: 0.9649\n",
            "\n",
            "Epoch 00009: val_loss did not improve from 0.10021\n",
            "Epoch 10/10\n",
            "64/64 [==============================] - 7s 116ms/step - loss: 0.0057 - categorical_accuracy: 0.9980 - val_loss: 0.1154 - val_categorical_accuracy: 0.9591\n",
            "\n",
            "Epoch 00010: val_loss did not improve from 0.10021\n"
          ],
          "name": "stdout"
        }
      ]
    },
    {
      "cell_type": "code",
      "metadata": {
        "id": "oosv42o708Vm",
        "colab_type": "code",
        "colab": {}
      },
      "source": [
        "#model.save_weights(\"/content/drive/My Drive/tl-7.h5\")"
      ],
      "execution_count": 0,
      "outputs": []
    },
    {
      "cell_type": "code",
      "metadata": {
        "id": "GqQS-BRt1XeW",
        "colab_type": "code",
        "outputId": "f34542eb-4de1-4e1b-ba77-9ada72598960",
        "colab": {
          "base_uri": "https://localhost:8080/",
          "height": 545
        }
      },
      "source": [
        "from matplotlib import pyplot\n",
        "\n",
        "pyplot.plot(history2.history['categorical_accuracy'])\n",
        "pyplot.plot(history2.history['val_categorical_accuracy'])\n",
        "pyplot.title('Training and validation accuracy')\n",
        "pyplot.show()\n",
        "\n",
        "pyplot.plot(history2.history['loss'])\n",
        "pyplot.plot(history2.history['val_loss'])\n",
        "pyplot.title('Training and validation loss')\n",
        "pyplot.show()"
      ],
      "execution_count": 0,
      "outputs": [
        {
          "output_type": "display_data",
          "data": {
            "image/png": "[encoded data removed]",
            "text/plain": [
              "<Figure size 432x288 with 1 Axes>"
            ]
          },
          "metadata": {
            "tags": []
          }
        },
        {
          "output_type": "display_data",
          "data": {
            "image/png": "[encoded data removed]",
            "text/plain": [
              "<Figure size 432x288 with 1 Axes>"
            ]
          },
          "metadata": {
            "tags": []
          }
        }
      ]
    },
    {
      "cell_type": "code",
      "metadata": {
        "id": "zO7tAVZIOK_9",
        "colab_type": "code",
        "outputId": "23793cba-89f9-4a24-c30f-97c52eb08d28",
        "colab": {
          "base_uri": "https://localhost:8080/",
          "height": 102
        }
      },
      "source": [
        "Y_pred = model.predict(X_test)\n",
        "y_pred = np.argmax(Y_pred, axis=1)\n",
        "print('Confusion Matrix')\n",
        "print(confusion_matrix(np.argmax(y_test, axis =1), y_pred))\n",
        "\n"
      ],
      "execution_count": 0,
      "outputs": [
        {
          "output_type": "stream",
          "text": [
            "Confusion Matrix\n",
            "[[143   0   0   0]\n",
            " [  1 117  10   0]\n",
            " [  0   4 120   5]\n",
            " [  0   0   1 112]]\n"
          ],
          "name": "stdout"
        }
      ]
    },
    {
      "cell_type": "code",
      "metadata": {
        "id": "8LqVfv__PCxr",
        "colab_type": "code",
        "outputId": "134e0272-c8e4-45ed-e53c-b77427701191",
        "colab": {
          "base_uri": "https://localhost:8080/",
          "height": 1000
        }
      },
      "source": [
        "# we need to recompile the model for these modifications to take effect\n",
        "# we use SGD with a low learning rate\n",
        "from keras.optimizers import SGD\n",
        "#metrics= ['categorical_accuracy']\n",
        "model.compile(optimizer=SGD(lr=0.0001, momentum=0.9), loss='categorical_crossentropy', metrics=['categorical_accuracy'])\n",
        "model.summary()"
      ],
      "execution_count": 0,
      "outputs": [
        {
          "output_type": "stream",
          "text": [
            "Model: \"model_3\"\n",
            "_________________________________________________________________\n",
            "Layer (type)                 Output Shape              Param #   \n",
            "=================================================================\n",
            "input_3 (InputLayer)         (None, 200, 200, 3)       0         \n",
            "_________________________________________________________________\n",
            "block1_conv1 (Conv2D)        (None, 200, 200, 64)      1792      \n",
            "_________________________________________________________________\n",
            "block1_conv2 (Conv2D)        (None, 200, 200, 64)      36928     \n",
            "_________________________________________________________________\n",
            "block1_pool (MaxPooling2D)   (None, 100, 100, 64)      0         \n",
            "_________________________________________________________________\n",
            "block2_conv1 (Conv2D)        (None, 100, 100, 128)     73856     \n",
            "_________________________________________________________________\n",
            "block2_conv2 (Conv2D)        (None, 100, 100, 128)     147584    \n",
            "_________________________________________________________________\n",
            "block2_pool (MaxPooling2D)   (None, 50, 50, 128)       0         \n",
            "_________________________________________________________________\n",
            "block3_conv1 (Conv2D)        (None, 50, 50, 256)       295168    \n",
            "_________________________________________________________________\n",
            "block3_conv2 (Conv2D)        (None, 50, 50, 256)       590080    \n",
            "_________________________________________________________________\n",
            "block3_conv3 (Conv2D)        (None, 50, 50, 256)       590080    \n",
            "_________________________________________________________________\n",
            "block3_conv4 (Conv2D)        (None, 50, 50, 256)       590080    \n",
            "_________________________________________________________________\n",
            "block3_pool (MaxPooling2D)   (None, 25, 25, 256)       0         \n",
            "_________________________________________________________________\n",
            "block4_conv1 (Conv2D)        (None, 25, 25, 512)       1180160   \n",
            "_________________________________________________________________\n",
            "block4_conv2 (Conv2D)        (None, 25, 25, 512)       2359808   \n",
            "_________________________________________________________________\n",
            "block4_conv3 (Conv2D)        (None, 25, 25, 512)       2359808   \n",
            "_________________________________________________________________\n",
            "block4_conv4 (Conv2D)        (None, 25, 25, 512)       2359808   \n",
            "_________________________________________________________________\n",
            "block4_pool (MaxPooling2D)   (None, 12, 12, 512)       0         \n",
            "_________________________________________________________________\n",
            "block5_conv1 (Conv2D)        (None, 12, 12, 512)       2359808   \n",
            "_________________________________________________________________\n",
            "block5_conv2 (Conv2D)        (None, 12, 12, 512)       2359808   \n",
            "_________________________________________________________________\n",
            "block5_conv3 (Conv2D)        (None, 12, 12, 512)       2359808   \n",
            "_________________________________________________________________\n",
            "block5_conv4 (Conv2D)        (None, 12, 12, 512)       2359808   \n",
            "_________________________________________________________________\n",
            "block5_pool (MaxPooling2D)   (None, 6, 6, 512)         0         \n",
            "_________________________________________________________________\n",
            "flatten_3 (Flatten)          (None, 18432)             0         \n",
            "_________________________________________________________________\n",
            "dense_5 (Dense)              (None, 2048)              37750784  \n",
            "_________________________________________________________________\n",
            "dropout_3 (Dropout)          (None, 2048)              0         \n",
            "_________________________________________________________________\n",
            "dense_6 (Dense)              (None, 4)                 8196      \n",
            "=================================================================\n",
            "Total params: 57,783,364\n",
            "Trainable params: 47,198,212\n",
            "Non-trainable params: 10,585,152\n",
            "_________________________________________________________________\n"
          ],
          "name": "stdout"
        }
      ]
    },
    {
      "cell_type": "code",
      "metadata": {
        "id": "0dm8F7gOPwrb",
        "colab_type": "code",
        "outputId": "07d846b3-fb2b-4e61-b2c3-c8cb76f60511",
        "colab": {
          "base_uri": "https://localhost:8080/",
          "height": 717
        }
      },
      "source": [
        "history3=model.fit_generator(    \n",
        "    datagen.flow(X_train, y_train, batch_size=32),\n",
        "    steps_per_epoch = len(X_train) // batch_size,\n",
        "    validation_data = (X_test,y_test), \n",
        "    class_weight = 'balanced',\n",
        "    epochs = 10,callbacks=[tensorboard,checkpointer])"
      ],
      "execution_count": 0,
      "outputs": [
        {
          "output_type": "stream",
          "text": [
            "Epoch 1/10\n",
            "64/64 [==============================] - 7s 116ms/step - loss: 0.0025 - categorical_accuracy: 0.9995 - val_loss: 0.0947 - val_categorical_accuracy: 0.9708\n",
            "\n",
            "Epoch 00001: val_loss did not improve from 0.09318\n",
            "Epoch 2/10\n",
            "64/64 [==============================] - 7s 115ms/step - loss: 0.0025 - categorical_accuracy: 0.9995 - val_loss: 0.0935 - val_categorical_accuracy: 0.9747\n",
            "\n",
            "Epoch 00002: val_loss did not improve from 0.09318\n",
            "Epoch 3/10\n",
            "64/64 [==============================] - 7s 116ms/step - loss: 0.0027 - categorical_accuracy: 0.9995 - val_loss: 0.0960 - val_categorical_accuracy: 0.9727\n",
            "\n",
            "Epoch 00003: val_loss did not improve from 0.09318\n",
            "Epoch 4/10\n",
            "64/64 [==============================] - 7s 116ms/step - loss: 0.0032 - categorical_accuracy: 0.9990 - val_loss: 0.0941 - val_categorical_accuracy: 0.9747\n",
            "\n",
            "Epoch 00004: val_loss did not improve from 0.09318\n",
            "Epoch 5/10\n",
            "64/64 [==============================] - 7s 115ms/step - loss: 0.0025 - categorical_accuracy: 0.9995 - val_loss: 0.0960 - val_categorical_accuracy: 0.9688\n",
            "\n",
            "Epoch 00005: val_loss did not improve from 0.09318\n",
            "Epoch 6/10\n",
            "64/64 [==============================] - 7s 116ms/step - loss: 0.0020 - categorical_accuracy: 1.0000 - val_loss: 0.0941 - val_categorical_accuracy: 0.9747\n",
            "\n",
            "Epoch 00006: val_loss did not improve from 0.09318\n",
            "Epoch 7/10\n",
            "64/64 [==============================] - 7s 115ms/step - loss: 0.0027 - categorical_accuracy: 0.9990 - val_loss: 0.0939 - val_categorical_accuracy: 0.9727\n",
            "\n",
            "Epoch 00007: val_loss did not improve from 0.09318\n",
            "Epoch 8/10\n",
            "64/64 [==============================] - 7s 116ms/step - loss: 0.0024 - categorical_accuracy: 0.9995 - val_loss: 0.0945 - val_categorical_accuracy: 0.9708\n",
            "\n",
            "Epoch 00008: val_loss did not improve from 0.09318\n",
            "Epoch 9/10\n",
            "64/64 [==============================] - 7s 115ms/step - loss: 0.0029 - categorical_accuracy: 0.9990 - val_loss: 0.0950 - val_categorical_accuracy: 0.9708\n",
            "\n",
            "Epoch 00009: val_loss did not improve from 0.09318\n",
            "Epoch 10/10\n",
            "64/64 [==============================] - 7s 115ms/step - loss: 0.0028 - categorical_accuracy: 0.9990 - val_loss: 0.0945 - val_categorical_accuracy: 0.9708\n",
            "\n",
            "Epoch 00010: val_loss did not improve from 0.09318\n"
          ],
          "name": "stdout"
        }
      ]
    },
    {
      "cell_type": "code",
      "metadata": {
        "id": "afsSyuI2PzzD",
        "colab_type": "code",
        "colab": {}
      },
      "source": [
        "model.load_weights(\"/content/drive/My Drive/model_vgg19_crop_best_200.h5\")"
      ],
      "execution_count": 0,
      "outputs": []
    },
    {
      "cell_type": "code",
      "metadata": {
        "id": "ly84fnHUQ7vJ",
        "colab_type": "code",
        "outputId": "0350393a-9f9b-4d86-c792-7e718c6618f8",
        "colab": {
          "base_uri": "https://localhost:8080/",
          "height": 102
        }
      },
      "source": [
        "Y_pred = model.predict(X_test)\n",
        "y_pred = np.argmax(Y_pred, axis=1)\n",
        "print('Confusion Matrix')\n",
        "print(confusion_matrix(np.argmax(y_test, axis =1), y_pred))\n"
      ],
      "execution_count": 0,
      "outputs": [
        {
          "output_type": "stream",
          "text": [
            "Confusion Matrix\n",
            "[[143   0   0   0]\n",
            " [  0 124   4   0]\n",
            " [  0   4 122   3]\n",
            " [  0   0   3 110]]\n"
          ],
          "name": "stdout"
        }
      ]
    },
    {
      "cell_type": "code",
      "metadata": {
        "id": "aQZ96rRpQ-wk",
        "colab_type": "code",
        "colab": {}
      },
      "source": [
        ""
      ],
      "execution_count": 0,
      "outputs": []
    }
  ]
}